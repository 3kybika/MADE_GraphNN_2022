{
 "cells": [
  {
   "cell_type": "markdown",
   "metadata": {
    "id": "McKSjhF-NyQJ"
   },
   "source": [
    "# Assignment - Recommender Systems via Graph Neural Networks\n",
    "\n",
    "In this task, we will implement the RippleNet model from the [paper](https://arxiv.org/pdf/1803.03467.pdf). The model utilizes information from the knowledge graph to enforce the recommendation performance.\n",
    "\n",
    "![test](https://recbole.io/docs/v0.1.2/_images/ripplenet.jpg)\n",
    "\n",
    "The picture depicts the general pipeline of the model.\n",
    "\n",
    "The upper part of the image shows the construction of the ripple sets. The seed nodes are the items that users already like. We construct ripple sets as a k-hop neighborhood of the corresponding seed nodes.\n",
    "\n",
    "The architecture scheme defines the prediction pipeline. We iteratively aggregate the information from k-hop neighbors to receive the user embedding. Finally, we take the scalar product between received user embedding and initial item one to receive the probability.\n",
    "\n",
    "We will start by preparing the dataset and visualization of the knowledge graph slice. Then we will implement the torch dataset, which is able to find ripple sets. After, we will define the model, train it and try to interpret some predictions."
   ]
  },
  {
   "cell_type": "code",
   "execution_count": 1,
   "metadata": {
    "id": "kmoSEvy8IIOO"
   },
   "outputs": [],
   "source": [
    "import numpy as np\n",
    "import pandas as pd\n",
    "import collections\n",
    "\n",
    "import torch\n",
    "from torch import nn\n",
    "from tqdm import tqdm\n",
    "import torch.nn.functional as F\n",
    "from torch.utils.data import Dataset, DataLoader"
   ]
  },
  {
   "cell_type": "markdown",
   "metadata": {
    "id": "wwmIiYc6IIOT"
   },
   "source": [
    "## Data preparation"
   ]
  },
  {
   "cell_type": "markdown",
   "metadata": {
    "id": "6EcW6tUhIIOU"
   },
   "source": [
    "We will work with the MovieLens-1m dataset linked to the knowledge base.\n",
    "\n",
    "We will only use the information about user-movie interactions from the MovieLens. The data in the proposed archive is already preprocessed. Firstly, item indices are aligned between the knowledge graph and the rating matrix. Secondly, ratings are converted to binary format. In this task, we will suppose that if the rating is greater than 3, the user likes the movie, so that we will plot the edge between them. Otherwise, the rating is negative, and the edge will be skipped, but we will propagate the negative value to the loss.\n",
    "\n",
    "Let us download the datasets."
   ]
  },
  {
   "cell_type": "code",
   "execution_count": 2,
   "metadata": {
    "colab": {
     "base_uri": "https://localhost:8080/"
    },
    "id": "ZlQqbcYSIZAN",
    "outputId": "92c32849-2386-47e0-ba23-99c87f520ef7"
   },
   "outputs": [
    {
     "name": "stdout",
     "output_type": "stream",
     "text": [
      "--2022-11-30 23:50:35--  https://raw.githubusercontent.com/netspractice/advanced_gnn/main/assignment03_recsys/data/id2relation.json\n",
      "Resolving raw.githubusercontent.com (raw.githubusercontent.com)... 185.199.111.133, 185.199.108.133, 185.199.109.133, ...\n",
      "Connecting to raw.githubusercontent.com (raw.githubusercontent.com)|185.199.111.133|:443... connected.\n",
      "HTTP request sent, awaiting response... 200 OK\n",
      "Length: 332 [text/plain]\n",
      "Saving to: ‘id2relation.json’\n",
      "\n",
      "id2relation.json    100%[===================>]     332  --.-KB/s    in 0s      \n",
      "\n",
      "2022-11-30 23:50:35 (56,5 MB/s) - ‘id2relation.json’ saved [332/332]\n",
      "\n",
      "--2022-11-30 23:50:35--  https://raw.githubusercontent.com/netspractice/advanced_gnn/main/assignment03_recsys/data/id2title.json\n",
      "Resolving raw.githubusercontent.com (raw.githubusercontent.com)... 185.199.111.133, 185.199.108.133, 185.199.110.133, ...\n",
      "Connecting to raw.githubusercontent.com (raw.githubusercontent.com)|185.199.111.133|:443... connected.\n",
      "HTTP request sent, awaiting response... 200 OK\n",
      "Length: 90104 (88K) [text/plain]\n",
      "Saving to: ‘id2title.json’\n",
      "\n",
      "id2title.json       100%[===================>]  87,99K  --.-KB/s    in 0,06s   \n",
      "\n",
      "2022-11-30 23:50:35 (1,55 MB/s) - ‘id2title.json’ saved [90104/90104]\n",
      "\n",
      "--2022-11-30 23:50:36--  https://github.com/netspractice/advanced_gnn/raw/main/assignment03_recsys/data/kg_final.npy\n",
      "Resolving github.com (github.com)... 140.82.121.3\n",
      "Connecting to github.com (github.com)|140.82.121.3|:443... connected.\n",
      "HTTP request sent, awaiting response... 302 Found\n",
      "Location: https://raw.githubusercontent.com/netspractice/advanced_gnn/main/assignment03_recsys/data/kg_final.npy [following]\n",
      "--2022-11-30 23:50:36--  https://raw.githubusercontent.com/netspractice/advanced_gnn/main/assignment03_recsys/data/kg_final.npy\n",
      "Resolving raw.githubusercontent.com (raw.githubusercontent.com)... 185.199.108.133, 185.199.109.133, 185.199.111.133, ...\n",
      "Connecting to raw.githubusercontent.com (raw.githubusercontent.com)|185.199.108.133|:443... connected.\n",
      "HTTP request sent, awaiting response... 200 OK\n",
      "Length: 14904068 (14M) [application/octet-stream]\n",
      "Saving to: ‘kg_final.npy’\n",
      "\n",
      "kg_final.npy        100%[===================>]  14,21M  16,5MB/s    in 0,9s    \n",
      "\n",
      "2022-11-30 23:50:38 (16,5 MB/s) - ‘kg_final.npy’ saved [14904068/14904068]\n",
      "\n",
      "--2022-11-30 23:50:38--  https://github.com/netspractice/advanced_gnn/raw/main/assignment03_recsys/data/ratings_final.npy\n",
      "Resolving github.com (github.com)... 140.82.121.3\n",
      "Connecting to github.com (github.com)|140.82.121.3|:443... connected.\n",
      "HTTP request sent, awaiting response... 302 Found\n",
      "Location: https://raw.githubusercontent.com/netspractice/advanced_gnn/main/assignment03_recsys/data/ratings_final.npy [following]\n",
      "--2022-11-30 23:50:39--  https://raw.githubusercontent.com/netspractice/advanced_gnn/main/assignment03_recsys/data/ratings_final.npy\n",
      "Resolving raw.githubusercontent.com (raw.githubusercontent.com)... 185.199.111.133, 185.199.108.133, 185.199.110.133, ...\n",
      "Connecting to raw.githubusercontent.com (raw.githubusercontent.com)|185.199.111.133|:443... connected.\n",
      "HTTP request sent, awaiting response... 200 OK\n",
      "Length: 9045392 (8,6M) [application/octet-stream]\n",
      "Saving to: ‘ratings_final.npy’\n",
      "\n",
      "ratings_final.npy   100%[===================>]   8,63M  15,0MB/s    in 0,6s    \n",
      "\n",
      "2022-11-30 23:50:40 (15,0 MB/s) - ‘ratings_final.npy’ saved [9045392/9045392]\n",
      "\n"
     ]
    }
   ],
   "source": [
    "! wget https://raw.githubusercontent.com/netspractice/advanced_gnn/main/assignment03_recsys/data/id2relation.json\n",
    "! wget https://raw.githubusercontent.com/netspractice/advanced_gnn/main/assignment03_recsys/data/id2title.json\n",
    "! wget https://github.com/netspractice/advanced_gnn/raw/main/assignment03_recsys/data/kg_final.npy\n",
    "! wget https://github.com/netspractice/advanced_gnn/raw/main/assignment03_recsys/data/ratings_final.npy"
   ]
  },
  {
   "cell_type": "markdown",
   "metadata": {
    "id": "ALrTaXnMQYj4"
   },
   "source": [
    "The `ml-kg-preprocessed/ratings_final.npy` contains preprocessed user-item interaction matrix. The `ml-kg-preprocessed/kg_final.npy` contains knowledge graph triplets (head, relation and tail)."
   ]
  },
  {
   "cell_type": "code",
   "execution_count": 4,
   "metadata": {
    "id": "SrJVhZRmIIOV"
   },
   "outputs": [],
   "source": [
    "ratings = np.load(\"ratings_final.npy\")\n",
    "kg_edges = np.load(\"kg_final.npy\")"
   ]
  },
  {
   "cell_type": "markdown",
   "metadata": {
    "id": "dZnjDMlkQo6I"
   },
   "source": [
    "Additionally, we have to mappings: movie id to title and relation id to its name."
   ]
  },
  {
   "cell_type": "code",
   "execution_count": 5,
   "metadata": {
    "id": "jkF2oAbJQzul"
   },
   "outputs": [],
   "source": [
    "import json\n",
    "import networkx as nx\n",
    "from matplotlib import pyplot as plt \n",
    "\n",
    "\n",
    "with open(\"id2relation.json\") as f:\n",
    "    id2relation = {int(i):j for i, j in json.load(f).items()}\n",
    "\n",
    "with open(\"id2title.json\") as f:\n",
    "    id2title = {int(i):j for i, j in json.load(f).items()}"
   ]
  },
  {
   "cell_type": "markdown",
   "metadata": {
    "id": "mCFDT_FAV01b"
   },
   "source": [
    "And for the visualization let us convert kg triplets to the pandas dataframe"
   ]
  },
  {
   "cell_type": "code",
   "execution_count": 6,
   "metadata": {
    "id": "HOW0V1ErV59d"
   },
   "outputs": [],
   "source": [
    "kg_edges_pd = pd.DataFrame(kg_edges)\n",
    "kg_edges_pd.columns = [\"head\", \"relation\", \"tail\"]\n",
    "kg_edges_pd.relation = kg_edges_pd.relation.map(id2relation)"
   ]
  },
  {
   "cell_type": "markdown",
   "metadata": {
    "id": "Z7NamJ7sM9xi"
   },
   "source": [
    "## Task 1. Knowledge subgraph visualization (1 point)"
   ]
  },
  {
   "cell_type": "markdown",
   "metadata": {
    "id": "aiDs_PhCVDA0"
   },
   "source": [
    "Let us visualize a part of a graph to understand how it looks like.\n",
    "\n",
    "Firstly, we need to define the function `find_neighbors_by_tail` that will return all triplets adjacent to tails achievable from the specific `movie_id`. Due to the large degree of specific entities (e.g. English language), we will truncate the number of possible movie_id tails by the least `k_tails`. The `kg_edges` \n",
    "\n",
    "The function should work as follows:\n",
    "\n",
    "1. Select the part of `kg_edges_pd` where `head` is equal to `movie_id`\n",
    "2. Extract all possible tails\n",
    "3. Select the part of `kg_edges_pd` where `tail` is in tails array from step 2\n",
    "4. Calculate the occurrence of tails in the subgraph 3\n",
    "5. Select only the least `k_tails` from them\n",
    "6. Filter the subgraph from 3 by the tails list from 5\n",
    "7. Filter the subgraph whether `head` is in the `id2title` map\n",
    "8. Create column `tail_type` with the last word after the dot in the `relation`"
   ]
  },
  {
   "cell_type": "code",
   "execution_count": 7,
   "metadata": {
    "id": "FfBFeXPPVDlN",
    "nbgrader": {
     "grade": false,
     "grade_id": "cell-ad1041767c7b9d62",
     "locked": false,
     "schema_version": 3,
     "solution": true,
     "task": false
    }
   },
   "outputs": [],
   "source": [
    "def find_neighbors_by_tail(movie_id, kg_edges_pd, k_tails=5):\n",
    "    ### BEGIN SOLUTION\n",
    "    part = kg_edges_pd[kg_edges_pd[\"head\"] == movie_id].copy()\n",
    "    neighbors = kg_edges_pd[kg_edges_pd[\"tail\"].isin(set(part[\"tail\"]))]\n",
    "    tails = neighbors[\"tail\"].value_counts().tail(k_tails).index.tolist()\n",
    "    neighbors = neighbors[neighbors[\"tail\"].isin(tails)]\n",
    "    neighbors = neighbors[neighbors[\"head\"].isin(id2title)]\n",
    "    neighbors[\"tail_type\"] = neighbors[\"relation\"].str.split(\".\").str[-1]\n",
    "    return neighbors\n",
    "    ### END SOLUTION"
   ]
  },
  {
   "cell_type": "code",
   "execution_count": 8,
   "metadata": {
    "id": "1ZiB-21BXaIh",
    "nbgrader": {
     "grade": true,
     "grade_id": "cell-5cf90766a9e97754",
     "locked": true,
     "points": 0.5,
     "schema_version": 3,
     "solution": false,
     "task": false
    }
   },
   "outputs": [],
   "source": [
    "neighbors = find_neighbors_by_tail(0, kg_edges_pd)\n",
    "assert neighbors.columns.tolist() == [\"head\", \"relation\", \"tail\", \"tail_type\"]\n",
    "assert neighbors.shape[0] == 13"
   ]
  },
  {
   "cell_type": "markdown",
   "metadata": {
    "id": "kZLoA1vbX8u1"
   },
   "source": [
    "Next, let us define the `find_positions` method, which takes the result of `find_neighbors_by_tail` and assign the positions on a 2d figure for each entity. Also, it should return the mapping from entity id to its types. The type of the tail is defined by its `tail_type` columns values. The type of elements in the `head` column is a `\"title\"`.\n",
    "\n",
    "The `find_positions_and_ntypes` should work as follows:\n",
    "\n",
    "1. Define mapping from entity id to its type as described in the previous paragraph\n",
    "2. If the node type is equal to the `title`, then x coordinate equals `1`. Otherwise, it equals `2`\n",
    "3. The elements inside each group should be placed through equal intervals inside the `(0, 1)` range\n",
    "4. Method should return two dictionaries. The first with a mapping from entity id to the tuple of (x, y) position, the second with the mapping from entity id to the node types"
   ]
  },
  {
   "cell_type": "code",
   "execution_count": 11,
   "metadata": {},
   "outputs": [],
   "source": [
    "def find_positions_and_ntypes(neighbors):\n",
    "    # YOUR CODE HERE\n",
    "    #raise NotImplementedError()    \n",
    "    heads_dict = {idx: 'title' for idx in np.unique(neighbors['head'].values)}\n",
    "    tails_dict = neighbors.set_index('tail', drop=False)['tail_type'].to_dict()\n",
    "\n",
    "    heads_dict_len = len(heads_dict)\n",
    "    tails_dict_len = len(tails_dict)\n",
    "\n",
    "    ntype_dict = heads_dict\n",
    "    ntype_dict.update(tails_dict)\n",
    "\n",
    "    pos_dict = {\n",
    "        idx: coord \n",
    "        for idx, coord in zip(\n",
    "            list(heads_dict.keys()), \n",
    "            list(zip([1] * heads_dict_len, np.linspace(0, 1, heads_dict_len)))\n",
    "        )\n",
    "    }\n",
    "\n",
    "\n",
    "    pos_tails_dict  = {\n",
    "        idx: coord \n",
    "        for idx, coord in zip(\n",
    "            list(tails_dict.keys()), \n",
    "            list(zip([2] * tails_dict_len, np.linspace(0, 1, tails_dict_len)))\n",
    "        )\n",
    "    }\n",
    "    pos_dict.update(pos_tails_dict)\n",
    "    \n",
    "    return pos_dict, ntype_dict"
   ]
  },
  {
   "cell_type": "code",
   "execution_count": 12,
   "metadata": {
    "id": "GnyaUincb23U",
    "nbgrader": {
     "grade": true,
     "grade_id": "cell-234b70d27e6efc8c",
     "locked": true,
     "points": 0.5,
     "schema_version": 3,
     "solution": false,
     "task": false
    }
   },
   "outputs": [],
   "source": [
    "pos, ntype = find_positions_and_ntypes(neighbors)\n",
    "assert ntype[0] == \"title\"\n",
    "assert pos[0][0] == 1"
   ]
  },
  {
   "cell_type": "markdown",
   "metadata": {
    "id": "hA4iPwVGZCC1"
   },
   "source": [
    "Now, we can visualize the knowledge graph part"
   ]
  },
  {
   "cell_type": "code",
   "execution_count": 13,
   "metadata": {
    "colab": {
     "base_uri": "https://localhost:8080/",
     "height": 575
    },
    "id": "NygeaBMti4wd",
    "outputId": "00304671-6b14-468a-a5d5-dfcdfb11c498"
   },
   "outputs": [
    {
     "data": {
      "image/png": "[encoded data removed]",
      "text/plain": [
       "<Figure size 1080x720 with 1 Axes>"
      ]
     },
     "metadata": {},
     "output_type": "display_data"
    }
   ],
   "source": [
    "def visualize_kg_part(movie_id, kg_edges, k_tails=5):\n",
    "    neighbors = find_neighbors_by_tail(movie_id, kg_edges, k_tails)\n",
    "    pos, ntypes = find_positions_and_ntypes(neighbors)\n",
    "    \n",
    "    g = nx.from_edgelist(neighbors[[\"head\", \"tail\"]].values)\n",
    "    labels = ntypes.copy()\n",
    "    labels.update({i: j for i,j in id2title.items() if i in ntypes})\n",
    "    f, ax = plt.subplots(1, 1, figsize=[15, 10])\n",
    "    plt.axis(\"off\")\n",
    "    ax.set_xlim((0.5, 2.5))\n",
    "    nx.draw_networkx_labels(g, pos=pos, labels=labels)\n",
    "    nx.draw_networkx_nodes(g, pos=pos,  ax=ax, node_size=[(100 if i == movie_id else 5) for i in g.nodes])\n",
    "    nx.draw_networkx_edges(g, pos=pos, edgelist=g.edges(), alpha=0.3)\n",
    "\n",
    "visualize_kg_part(0, kg_edges_pd)"
   ]
  },
  {
   "cell_type": "markdown",
   "metadata": {
    "id": "SG5RdtsYapei"
   },
   "source": [
    "Here, we can see that `Toy Story` has similar director and writers with the second part of the title and with `Bug's Life`. Additionally, it shares writers with the movies `Titan A.E.`, `Alien: Resurrection` and `Buffy the Vampire Slayer`.\n",
    "\n",
    "We can see similar logic in the picture from the paper.\n",
    "\n",
    "<img src=\"https://drive.google.com/uc?export=view&id=1002lEzdeof3p_E2uomD1jdcbj-iz39xK\" width=\"400\" />\n",
    "\n",
    "The RippleNet model intuition is that knowledge graph defines meaningful connections between movie titles within the two hops of a knowledge graph. So this information can help to find the best choices to recommend.\n",
    "\n",
    "For example, let us consider the case of collaborative filtering. It defines the similarity between titles through the item co-occurrence within the history of a user. So, for example, in this case `Toy Story` and `Toy Story 2` will be similar only when many users watch both films. However, a knowledge graph provides an opportunity to know its similarity in advance because it shares several neighbours."
   ]
  },
  {
   "cell_type": "markdown",
   "metadata": {
    "id": "h7X2VnZvIIOW"
   },
   "source": [
    "Now, we need to split ratings into train, validation and test parts."
   ]
  },
  {
   "cell_type": "code",
   "execution_count": 14,
   "metadata": {
    "id": "dwhtnuMhIIOX"
   },
   "outputs": [],
   "source": [
    "np.random.seed(0)\n",
    "\n",
    "idx = np.random.permutation(ratings.shape[0])\n",
    "\n",
    "train_idx = idx[:int(0.6 * idx.shape[0])]\n",
    "val_idx = idx[int(0.6 * idx.shape[0]):int(0.8 * idx.shape[0])]\n",
    "test_idx = idx[int(0.8 * idx.shape[0]):]"
   ]
  },
  {
   "cell_type": "markdown",
   "metadata": {
    "id": "hxzXuAOmUtGH"
   },
   "source": [
    "## Task 2. Graphs preparation (1 point)"
   ]
  },
  {
   "cell_type": "markdown",
   "metadata": {
    "id": "NyMvDVMycVT3"
   },
   "source": [
    "Let us define the train graph of user-item interactions. It could be represented as a mapping from the user id to the list of all liked (positive) titles by a user.\n",
    "\n",
    "The rating array has three columns:\n",
    "1. User id\n",
    "2. Item id\n",
    "3. Rating (0 or 1)\n",
    "\n",
    "The function should work as follows:\n",
    "\n",
    "1. Iterate over `train_idx`\n",
    "2. If `rating` is positive, then append item id to corresponding user id key history"
   ]
  },
  {
   "cell_type": "code",
   "execution_count": 15,
   "metadata": {
    "id": "v7zYzhT8duj7",
    "nbgrader": {
     "grade": false,
     "grade_id": "cell-09a888172177b492",
     "locked": false,
     "schema_version": 3,
     "solution": true,
     "task": false
    }
   },
   "outputs": [],
   "source": [
    "def convert_ratings_to_user_history(ratings, train_idx):\n",
    "    user_history_dict = collections.defaultdict(list)\n",
    "    # YOUR CODE HERE\n",
    "    #raise NotImplementedError()\n",
    "    train_rating = ratings[train_idx]\n",
    "    return {\n",
    "        idx: train_rating[\n",
    "            np.logical_and((train_rating[:, 0] == idx), (train_rating[:, 2] == 1))\n",
    "        ][:, 1]\n",
    "        for idx in np.unique(train_rating[:, 0])\n",
    "    }"
   ]
  },
  {
   "cell_type": "code",
   "execution_count": 16,
   "metadata": {
    "id": "Rwfus0God8Qt",
    "nbgrader": {
     "grade": true,
     "grade_id": "cell-12f05d9cf2426e4f",
     "locked": true,
     "points": 0.5,
     "schema_version": 3,
     "solution": false,
     "task": false
    }
   },
   "outputs": [],
   "source": [
    "user_history_dict = convert_ratings_to_user_history(ratings, train_idx)\n",
    "assert 624 in user_history_dict[0]\n",
    "assert len(user_history_dict[0]) == 13"
   ]
  },
  {
   "cell_type": "markdown",
   "metadata": {
    "id": "gvfVrRYnIIOa"
   },
   "source": [
    "Let us filter indices if users are not presented in the user history graph"
   ]
  },
  {
   "cell_type": "code",
   "execution_count": 17,
   "metadata": {
    "id": "JLYCR9pLIIOa"
   },
   "outputs": [],
   "source": [
    "train_idx = [i for i in train_idx if ratings[i][0] in user_history_dict]\n",
    "val_idx = [i for i in val_idx if ratings[i][0] in user_history_dict]\n",
    "test_idx = [i for i in test_idx if ratings[i][0] in user_history_dict]"
   ]
  },
  {
   "cell_type": "markdown",
   "metadata": {
    "id": "49Fx0zb8IIOb"
   },
   "source": [
    "And finally, we can define the train, val and test \n",
    "subsets"
   ]
  },
  {
   "cell_type": "code",
   "execution_count": 18,
   "metadata": {
    "id": "wemgQeLLIIOb"
   },
   "outputs": [],
   "source": [
    "train_data = ratings[train_idx]\n",
    "val_data = ratings[val_idx]\n",
    "test_data = ratings[test_idx]"
   ]
  },
  {
   "cell_type": "markdown",
   "metadata": {
    "id": "hzyv0IfpIIOc"
   },
   "source": [
    "Now, we need to transform our knowledge graph edges into the dictionary where the key is heads and values is a list of tuples `(tail, relation)`"
   ]
  },
  {
   "cell_type": "code",
   "execution_count": 19,
   "metadata": {
    "id": "Ez8dOeSGIIOc",
    "nbgrader": {
     "grade": false,
     "grade_id": "cell-768d469fb230a058",
     "locked": false,
     "schema_version": 3,
     "solution": true,
     "task": false
    }
   },
   "outputs": [],
   "source": [
    "def transform_kg(kg_edges):\n",
    "    # YOUR CODE HERE\n",
    "    #raise NotImplementedError()\n",
    "    knowledge_df = pd.DataFrame(kg_edges, columns=['heads', 'relations', 'tails'])\n",
    "    knowledge_df['pairs'] = knowledge_df.apply(lambda row: (row[2], row[1]), axis=1)\n",
    "\n",
    "    return {\n",
    "        name: group['pairs'].values.tolist()\n",
    "        for name, group in knowledge_df.groupby('heads')\n",
    "    }"
   ]
  },
  {
   "cell_type": "code",
   "execution_count": 20,
   "metadata": {
    "id": "z3Ly-Y7sfCQP",
    "nbgrader": {
     "grade": true,
     "grade_id": "cell-90cf6b02c0ba8404",
     "locked": true,
     "points": 0.5,
     "schema_version": 3,
     "solution": false,
     "task": false
    }
   },
   "outputs": [],
   "source": [
    "kg = transform_kg(kg_edges)\n",
    "\n",
    "assert kg[0][0] == (2755, 10)"
   ]
  },
  {
   "cell_type": "markdown",
   "metadata": {
    "id": "61blRsOIfLm8"
   },
   "source": [
    "## Task 3. Ripple sets (3 points)\n",
    "\n",
    "One of the main concepts in the paper is a RippleSet. RippleSet is an array of all neighboring triplets to our node within the given number of hop.\n",
    "\n",
    "Some entities have a substantial degree that could cover almost the whole graph. So to reduce the complexity of a model, we will use only a fixed uniform subsample of neighbors on each hop.\n",
    "\n",
    "Here, the `find_ripple` method should be defined in the following way\n",
    "1. Iterate over the number of hops\n",
    "2. Find neighbors to the tails of the previous hop (at the start, it is equal to the user history array)\n",
    "3. Preserve the triplet defined by it (head, relation, tail) in different arrays. \n",
    "4. Convert it to the torch.LongTensor\n",
    "5. Append it to the user ripple set array.\n",
    "\n",
    "So ripple set for a user with two- and three-hop neighbors sample will look like\n",
    "\n",
    "```\n",
    "[\n",
    "  [\n",
    "    torch.LongTensor([0, 1, 2]), # first hop head ids\n",
    "    torch.LongTensor([0, 1, 2]), # first hop relation ids\n",
    "    torch.LongTensor([5, 2, 9]), # first hop tail ids\n",
    "  ],\n",
    "  [\n",
    "    torch.LongTensor([5, 2, 2]), # second hop head ids (subsample of previous tails)\n",
    "    torch.LongTensor([3, 1, 5]), # second hop head ids\n",
    "    torch.LongTensor([10, 3, 1]), # second hop relation ids\n",
    "  ]\n",
    "]\n",
    "```\n"
   ]
  },
  {
   "cell_type": "code",
   "execution_count": 55,
   "metadata": {
    "id": "TrzpoUsQjXEM",
    "nbgrader": {
     "grade": false,
     "grade_id": "cell-d9fd4c3a51ca6f6f",
     "locked": false,
     "schema_version": 3,
     "solution": true,
     "task": false
    }
   },
   "outputs": [],
   "source": [
    "def find_ripple(user, user_history_dict, kg, num_hops=2, num_neighbors=32):\n",
    "    # YOUR CODE HERE\n",
    "    #raise NotImplementedError()\n",
    "    hop_tails_ids = user_history_dict[0]\n",
    "    heads_set = set(kg.keys())\n",
    "    triplets = []\n",
    "\n",
    "    for _ in range(num_hops):\n",
    "        intersected_tails = set(hop_tails_ids).intersection(heads_set)\n",
    "        hop_heads_ids = np.random.choice(list(intersected_tails), num_neighbors)\n",
    "\n",
    "        all_tails = []\n",
    "        for head_id in hop_heads_ids:\n",
    "            all_tails += kg[head_id] # there is lists!\n",
    "\n",
    "        hop_idxs = np.random.choice(range(len(all_tails)), num_neighbors)\n",
    "        tail_relations = np.array(all_tails)[hop_idxs]\n",
    "        \n",
    "        hop_tails_ids = [t[0] for t in tail_relations]\n",
    "        hop_relations_ids = [r[1] for r in tail_relations]\n",
    "\n",
    "        triplets.append([\n",
    "            torch.tensor(hop_heads_ids, dtype=torch.long),\n",
    "            torch.tensor(hop_relations_ids, dtype=torch.long),\n",
    "            torch.tensor(hop_tails_ids, dtype=torch.long)\n",
    "        ])\n",
    "        \n",
    "    return triplets"
   ]
  },
  {
   "cell_type": "code",
   "execution_count": 56,
   "metadata": {
    "id": "w_Sovp9WjpVr",
    "nbgrader": {
     "grade": true,
     "grade_id": "cell-f64f0c0929409e4f",
     "locked": true,
     "points": 2,
     "schema_version": 3,
     "solution": false,
     "task": false
    }
   },
   "outputs": [],
   "source": [
    "ripple = find_ripple(0, user_history_dict, kg)\n",
    "\n",
    "assert len(ripple) == 2\n",
    "assert ripple[0][0].shape[0] == 32\n",
    "assert len(set([i.item() for i in ripple[0][0]]) - set(user_history_dict[0])) == 0\n",
    "assert len(set([i.item() for i in ripple[1][0]]) - set([i.item() for i in ripple[0][2]])) == 0"
   ]
  },
  {
   "cell_type": "markdown",
   "metadata": {
    "id": "G1xlJPaWknNM"
   },
   "source": [
    "In the next cell, we will implement the `__getitem__` method for RippleDataset.\n",
    "\n",
    "The `idx` is an integer index of an element in the rating matrix.\n",
    "We need to extract the user, item and label from it and add the ripple set for a given user."
   ]
  },
  {
   "cell_type": "code",
   "execution_count": 59,
   "metadata": {
    "id": "RqhA97YeIIOd",
    "nbgrader": {
     "grade": false,
     "grade_id": "cell-357689f65e86207b",
     "locked": false,
     "schema_version": 3,
     "solution": true,
     "task": false
    }
   },
   "outputs": [],
   "source": [
    "class RippleDataset(Dataset):\n",
    "    def __init__(self, ratings, ripple_set):\n",
    "        self.ratings = torch.LongTensor(ratings)\n",
    "        self.ripple_set = ripple_set\n",
    "    \n",
    "    def __len__(self):\n",
    "        return self.ratings.shape[0]\n",
    "    \n",
    "    def __getitem__(self, idx):\n",
    "        # YOUR CODE HERE\n",
    "        #raise NotImplementedError()\n",
    "        \n",
    "        user = self.ratings[idx][0]    \n",
    "        item = self.ratings[idx][1]\n",
    "        label = self.ratings[idx][2]\n",
    "        ripple = self.ripple_set[user.item()]\n",
    "        \n",
    "        return user, item, label, ripple"
   ]
  },
  {
   "cell_type": "markdown",
   "metadata": {
    "id": "rdrTu4aZkdZz"
   },
   "source": [
    "Now, we can define the dataloader for train, validation and test"
   ]
  },
  {
   "cell_type": "code",
   "execution_count": 60,
   "metadata": {
    "id": "-sHY1O8YIIOe"
   },
   "outputs": [],
   "source": [
    "ripple_set = {user: find_ripple(user, user_history_dict, kg) for user in user_history_dict}\n",
    "\n",
    "train_dataset = RippleDataset(train_data, ripple_set)\n",
    "val_dataset = RippleDataset(val_data, ripple_set)\n",
    "test_dataset = RippleDataset(test_data, ripple_set)\n",
    "\n",
    "train_loader = DataLoader(train_dataset, batch_size=512, shuffle=True)\n",
    "val_loader = DataLoader(val_dataset, batch_size=512, shuffle=True)\n",
    "test_loader = DataLoader(test_dataset, batch_size=512, shuffle=True)"
   ]
  },
  {
   "cell_type": "code",
   "execution_count": 61,
   "metadata": {
    "id": "SxZ6q9VblF5M",
    "nbgrader": {
     "grade": true,
     "grade_id": "cell-d698c636aa1d38b0",
     "locked": true,
     "points": 1,
     "schema_version": 3,
     "solution": false,
     "task": false
    }
   },
   "outputs": [],
   "source": [
    "user, item, label, ripple = train_dataset.__getitem__(0)\n",
    "assert user.item() == 441\n",
    "assert item.item() == 658\n",
    "assert label.item() == 1\n",
    "assert len(ripple) == 2"
   ]
  },
  {
   "cell_type": "markdown",
   "metadata": {
    "id": "5ZhpiTJIIIOh"
   },
   "source": [
    "## Task 4. Model definition (2 points)\n",
    "\n",
    "To explain how the model works, let us refer to the picture from the start of the notebook.\n",
    "\n",
    "![test](https://recbole.io/docs/v0.1.2/_images/ripplenet.jpg)\n",
    "\n",
    "1. Firstly, we need to encode all the entities: items, heads, relations and tails in the ripple sets\n",
    "2. Then, we need to construct vectors that represent each hop of neighborhood (`key_addressing` method)\n",
    "3. We need to calculate the user embedding by taking the sum of all hop vectors.\n",
    "4. Finally, we can calculate the affinity score between user and item representations by taking the dot product of them and normalizing it with a sigmoid function\n",
    "\n",
    "\n",
    "The `key_addressing` function works as follows:\n",
    "\n",
    "1. Iterate over each hop\n",
    "2. Project the head to the tail space by multiplying it on the relations embedding\n",
    "3. Multiply the item embeddings by the projected heads from step 2 and normalize it via softmax to calculate the tail weights\n",
    "4. Calculate the hop representation by taking the weighted average of tail vectors relative to probabilities from step 3.\n",
    "5. Concatenate the item embeddings with a result of step 4.\n",
    "6. Project the result of 5 using `transform_matrix`\n",
    "7. Safe the resulting hop vector\n",
    "8. After all iterations, sum all weights from 7 to receive the user_embedding"
   ]
  },
  {
   "cell_type": "code",
   "execution_count": 66,
   "metadata": {
    "id": "NtNyyLbNIIOh",
    "nbgrader": {
     "grade": false,
     "grade_id": "cell-8245d9d501161f21",
     "locked": false,
     "schema_version": 3,
     "solution": true,
     "task": false
    }
   },
   "outputs": [],
   "source": [
    "class RippleNet(nn.Module):\n",
    "    def __init__(self, n_entity, n_relation, dim):\n",
    "        super(RippleNet, self).__init__()\n",
    "\n",
    "        self.n_entity = n_entity\n",
    "        self.n_relation = n_relation\n",
    "        self.dim = dim\n",
    "\n",
    "        self.entity_emb = nn.Embedding(self.n_entity, self.dim)\n",
    "        self.relation_emb = nn.Embedding(self.n_relation, self.dim * self.dim)\n",
    "        self.transform_matrix = nn.Linear(self.dim * 2, self.dim, bias=False)\n",
    "\n",
    "    def forward(self, items, ripples):\n",
    "        item_embeddings = self.entity_emb(items)\n",
    "        head_embs = []\n",
    "        rel_embs = []\n",
    "        tail_embs = []\n",
    "        \n",
    "        for heads, rels, tails in ripples:\n",
    "            head_embs.append(self.entity_emb(heads))\n",
    "            tail_embs.append(self.entity_emb(tails))\n",
    "            rel_embs.append(self.relation_emb(rels).reshape(-1, rels.shape[1], self.dim, self.dim))\n",
    "\n",
    "        user_embedding, item_embeddings = self.key_addressing(\n",
    "            head_embs, tail_embs, rel_embs, item_embeddings\n",
    "        )\n",
    "\n",
    "        affinity = (user_embedding * item_embeddings).sum(1).sigmoid()\n",
    "        return affinity, (head_embs, rel_embs, tail_embs)\n",
    "\n",
    "    def key_addressing(self, head_embs, tail_embs, rel_embs, item_embeddings):\n",
    "        # YOUR CODE HERE\n",
    "        #raise NotImplementedError()\n",
    "        result_embeddings = []\n",
    "\n",
    "        for head_emb, rel_emb, tail_emb in zip(head_embs, rel_embs, tail_embs):\n",
    "            head_to_tail_project = torch.matmul(rel_emb, head_emb.unsqueeze(-1)).squeeze() #2\n",
    "\n",
    "            denormalized_tail_weights = torch.matmul(head_to_tail_project, item_embeddings.unsqueeze(-1)).squeeze()\n",
    "            tail_weights = nn.Softmax(dim=1)(denormalized_tail_weights) #3\n",
    "\n",
    "            hop_representation = torch.mean(tail_emb * tail_weights.unsqueeze(-1), axis=1) #4\n",
    "            concat_embedings = torch.cat((item_embeddings, hop_representation), axis=1) #5\n",
    "            result_project = self.transform_matrix(concat_embedings) #6\n",
    "            result_embeddings.append(result_project)\n",
    "\n",
    "        return torch.stack(result_embeddings).sum(axis=0), item_embeddings\n"
   ]
  },
  {
   "cell_type": "code",
   "execution_count": 67,
   "metadata": {
    "id": "d_BIFpVa9aXR"
   },
   "outputs": [],
   "source": [
    "for (user, item, label, ripple) in train_loader:\n",
    "    break"
   ]
  },
  {
   "cell_type": "code",
   "execution_count": 68,
   "metadata": {
    "id": "9GU7-85vIIOi",
    "nbgrader": {
     "grade": true,
     "grade_id": "cell-b0eaecaf95dbb65a",
     "locked": true,
     "points": 2,
     "schema_version": 3,
     "solution": false,
     "task": false
    }
   },
   "outputs": [],
   "source": [
    "torch.manual_seed(0)\n",
    "\n",
    "n_ent = len(set(kg_edges[:, 0]) | set(kg_edges[:, 2]))\n",
    "n_rel = len(set(kg_edges[:, 1]))\n",
    "\n",
    "model = RippleNet(n_ent, n_rel, dim=8)\n",
    "scores, embs = model(item, ripple)\n",
    "\n",
    "assert scores[0].item()"
   ]
  },
  {
   "cell_type": "markdown",
   "metadata": {
    "id": "ie7gvuwnIIOi"
   },
   "source": [
    "## Task 5. Loss definition (2 points)\n",
    "\n",
    "In this part, we will define the loss function `compute_losses`.\n",
    "It consists of three parts: binary cross-entropy (BCE) loss between item labels and score, knowledge graph embedding (KGE) loss and knowledge graph l2 regularization.\n",
    "\n",
    "BCE loss could be calculated via the default function from PyTorch.\n",
    "\n",
    "The KGE part of loss aims to learn the fine-grained entity and relation representations. It equals the dot product between head to tail projection (h * r) and tail vectors normalized by sigmoid. After calculating probability, we need to take the mean over all samples.\n",
    "\n",
    "The l2 regularization is a sum over the L2-norm for each head, relation and tail matrices. It is better to divide it by 3 to take the mean between matrices and normalize by the overall number of observations."
   ]
  },
  {
   "cell_type": "code",
   "execution_count": 69,
   "metadata": {
    "id": "OcPIgYnNIIOi"
   },
   "outputs": [],
   "source": [
    "criterion = nn.BCELoss()"
   ]
  },
  {
   "cell_type": "code",
   "execution_count": 75,
   "metadata": {
    "id": "GOLELRtcIIOj",
    "nbgrader": {
     "grade": false,
     "grade_id": "cell-686efc1fb10360a6",
     "locked": false,
     "schema_version": 3,
     "solution": true,
     "task": false
    }
   },
   "outputs": [],
   "source": [
    "def compute_losses(scores, labels, heads, relations, tails):\n",
    "    # YOUR CODE HERE\n",
    "    #raise NotImplementedError()\n",
    "    observations_num = sum([head.shape[0] for head in heads])\n",
    "    kge_samples = []\n",
    "    l2_loss = 0\n",
    "    \n",
    "    for head, relation, tail in zip(heads, relations, tails):\n",
    "        head_to_tail_project = torch.matmul(relation, head.unsqueeze(-1))\n",
    "        tail_weights = torch.sum(tail * head_to_tail_project.squeeze(), axis=-1)\n",
    "        kge_samples.append(torch.mean(tail_weights.sigmoid()))\n",
    "\n",
    "        l2_loss += (\n",
    "            torch.norm(head) ** 2 +\n",
    "            torch.norm(tail) ** 2 +\n",
    "            torch.norm(relation) ** 2 \n",
    "        ) / (3 * observations_num)\n",
    "\n",
    "    bce_loss = nn.BCELoss()(scores.to(torch.float), labels.to(torch.float))\n",
    "    kge_loss = torch.stack(kge_samples).sum()\n",
    "    return bce_loss, kge_loss, l2_loss"
   ]
  },
  {
   "cell_type": "code",
   "execution_count": 76,
   "metadata": {
    "id": "DMQ2Z_e9Kucj",
    "nbgrader": {
     "grade": true,
     "grade_id": "cell-01a031cca82b88a8",
     "locked": true,
     "points": 2,
     "schema_version": 3,
     "solution": false,
     "task": false
    }
   },
   "outputs": [],
   "source": [
    "bce, kge, l2 = compute_losses(torch.FloatTensor([0.5]), torch.FloatTensor([1]),\n",
    "                              [torch.ones(10, 32, 8), torch.ones(10, 32, 8)],\n",
    "                              [torch.ones(10, 32, 8, 8), torch.ones(10, 32, 8, 8)],\n",
    "                              [torch.ones(10, 32, 8), torch.ones(10, 32, 8)],)\n",
    "\n",
    "assert round(bce.item(), 4) == 0.6931\n",
    "assert round(kge.item()) == 2\n",
    "assert round(l2.item()) == 853"
   ]
  },
  {
   "cell_type": "markdown",
   "metadata": {
    "id": "TPnAFexgIIOj"
   },
   "source": [
    "## Task 5. Put all together (1 point)"
   ]
  },
  {
   "cell_type": "code",
   "execution_count": 77,
   "metadata": {
    "id": "gw-KDj_dIIOj"
   },
   "outputs": [],
   "source": [
    "from sklearn.metrics import average_precision_score\n",
    "from matplotlib import pyplot as plt\n",
    "from IPython.display import clear_output\n",
    "\n",
    "def train(model, opt, loader, kge_weight=0.01, l2_weight=1e-4):\n",
    "    model.train()\n",
    "    losses = []\n",
    "    for users, items, labels, ripples in tqdm(loader):\n",
    "        scores, embs = model(items.to(device), [[i.to(device) for i in ripple] for ripple in ripples])\n",
    "        bce_loss, kge_loss, l2_loss = compute_losses(scores, labels.to(device), *embs)\n",
    "        loss = bce_loss + kge_weight * kge_loss + l2_weight * l2_loss\n",
    "        \n",
    "        opt.zero_grad()\n",
    "        loss.backward()\n",
    "        opt.step()\n",
    "        \n",
    "        losses.append(loss.item())\n",
    "    return np.mean(losses)\n",
    "\n",
    "def evaluate(model, loader, kge_weight=0.01, l2_weight=1e-4):\n",
    "    model.eval()\n",
    "    all_scores = []\n",
    "    all_labels = []\n",
    "    losses = []\n",
    "    for users, items, labels, ripples in tqdm(loader):\n",
    "        scores, embs = model(items.to(device), [[i.to(device) for i in ripple] for ripple in ripples])\n",
    "        bce_loss, kge_loss, l2_loss = compute_losses(scores, labels.to(device), *embs)\n",
    "        losses.append((bce_loss + kge_weight * kge_loss + l2_weight * l2_loss).item())\n",
    "        all_scores.append(scores.detach().cpu().numpy())\n",
    "        all_labels.append(labels.detach().cpu().numpy())\n",
    "    all_scores = np.concatenate(all_scores)\n",
    "    all_labels = np.concatenate(all_labels)\n",
    "    ap = average_precision_score(all_labels, all_scores)\n",
    "    return ap, np.mean(losses)\n",
    "\n",
    "def run(model, opt, train_loader, val_loader, test_loader, kge_weight=0.01, l2_weight=1e-4, n_epoch=10):\n",
    "    train_loss_log = []\n",
    "    val_loss_log = []\n",
    "    val_ap_log = []\n",
    "    for epoch in range(n_epoch):\n",
    "        train_loss_log.append(train(model, opt, train_loader, kge_weight, l2_weight))\n",
    "        val_ap, val_loss = evaluate(model, val_loader, kge_weight=0.01, l2_weight=1e-4)\n",
    "        val_loss_log.append(val_loss)\n",
    "        val_ap_log.append(val_ap)\n",
    "        clear_output()\n",
    "        f, ax = plt.subplots(1, 2, figsize=[13, 4])\n",
    "        ax[0].plot(train_loss_log, label=f\"train: {train_loss_log[-1]:.2f}\")\n",
    "        ax[0].plot(val_loss_log, label=f\"val: {val_loss_log[-1]:.2f}\", c=\"C1\")\n",
    "        ax[1].plot(val_ap_log)\n",
    "        f.suptitle(f\"Best score: {max(val_ap_log):.2f} at epoch: {np.argmax(val_ap_log):.2f}, last score: {val_ap_log[-1]:.2f} at epoch {epoch}\")\n",
    "        f.show()\n",
    "        plt.legend()\n",
    "        plt.show()\n",
    "    ap, loss = evaluate(model, test_loader, kge_weight=0.01, l2_weight=1e-4)\n",
    "    print(f\"Test score: {ap:.2f}, test loss: {loss:.2f}\")\n",
    "    "
   ]
  },
  {
   "cell_type": "code",
   "execution_count": 79,
   "metadata": {
    "id": "CtH1Q_qWIIOk"
   },
   "outputs": [
    {
     "name": "stderr",
     "output_type": "stream",
     "text": [
      "No handles with labels found to put in legend.\n"
     ]
    },
    {
     "data": {
      "image/png": "[encoded data removed]",
      "text/plain": [
       "<Figure size 936x288 with 2 Axes>"
      ]
     },
     "metadata": {
      "needs_background": "light"
     },
     "output_type": "display_data"
    },
    {
     "name": "stderr",
     "output_type": "stream",
     "text": [
      "100%|██████████| 295/295 [00:02<00:00, 112.42it/s]"
     ]
    },
    {
     "name": "stdout",
     "output_type": "stream",
     "text": [
      "Test score: 0.87, test loss: 0.45\n"
     ]
    },
    {
     "name": "stderr",
     "output_type": "stream",
     "text": [
      "\n"
     ]
    }
   ],
   "source": [
    "device = \"cuda:0\" if torch.cuda.is_available() else \"cpu\"\n",
    "model = RippleNet(n_ent, n_rel, dim=8)\n",
    "model.to(device)\n",
    "opt = torch.optim.Adam(model.parameters(), 3e-4)\n",
    "\n",
    "# run(model, opt, test_loader, test_loader, test_loader, n_epoch=22)\n",
    "\n",
    "# with open(\"weights.pth\", \"wb\") as f:\n",
    "#     torch.save(model.state_dict(), f)"
   ]
  },
  {
   "cell_type": "markdown",
   "metadata": {
    "id": "koMGdTPOAldl"
   },
   "source": [
    "Download your weights here and load to the model"
   ]
  },
  {
   "cell_type": "code",
   "execution_count": 82,
   "metadata": {
    "colab": {
     "base_uri": "https://localhost:8080/"
    },
    "id": "sbsiHolIhlDB",
    "nbgrader": {
     "grade": false,
     "grade_id": "cell-6bee073cff2bcebd",
     "locked": false,
     "schema_version": 3,
     "solution": true,
     "task": false
    },
    "outputId": "1bf62dbd-50d9-4af8-abc6-5967d2cf1477"
   },
   "outputs": [
    {
     "name": "stdout",
     "output_type": "stream",
     "text": [
      "--2022-12-01 17:26:45--  https://raw.githubusercontent.com/3kybika/MADE_GraphNN_2022/main/assignment03_recsys/weights.pth\n",
      "Resolving raw.githubusercontent.com (raw.githubusercontent.com)... 185.199.108.133, 185.199.110.133, 185.199.111.133, ...\n",
      "Connecting to raw.githubusercontent.com (raw.githubusercontent.com)|185.199.108.133|:443... connected.\n",
      "HTTP request sent, awaiting response... 200 OK\n",
      "Length: 5829347 (5,6M) [application/octet-stream]\n",
      "Saving to: ‘weights.pth.2’\n",
      "\n",
      "weights.pth.2       100%[===================>]   5,56M  13,8MB/s    in 0,4s    \n",
      "\n",
      "2022-12-01 17:26:46 (13,8 MB/s) - ‘weights.pth.2’ saved [5829347/5829347]\n",
      "\n"
     ]
    },
    {
     "data": {
      "text/plain": [
       "<All keys matched successfully>"
      ]
     },
     "execution_count": 82,
     "metadata": {},
     "output_type": "execute_result"
    }
   ],
   "source": [
    "# YOUR CODE HERE\n",
    "#raise NotImplementedError()\n",
    "\n",
    "# model.load_state_dict(state_dict)\n",
    "\n",
    "#TODO Check url!!!\n",
    "!wget https://raw.githubusercontent.com/3kybika/MADE_GraphNN_2022/main/assignment03_recsys/weights.pth\n",
    "    \n",
    "model.load_state_dict(torch.load('weights.pth'))"
   ]
  },
  {
   "cell_type": "code",
   "execution_count": 83,
   "metadata": {
    "id": "OlJWemyPC-rc",
    "nbgrader": {
     "grade": true,
     "grade_id": "cell-34a5ab2f241065f5",
     "locked": true,
     "points": 1,
     "schema_version": 3,
     "solution": false,
     "task": false
    }
   },
   "outputs": [],
   "source": [
    "scores, embs = model(item.to(device), [[j.to(device) for j in i] for i in ripple])\n",
    "\n",
    "labels = label.to(device)\n",
    "bce, kge, l2 = compute_losses(scores, labels, *embs)\n",
    "assert bce.item() < 0.6 and bce.item() > 0.3\n",
    "assert kge.item() < 1 and kge.item() > 0.6"
   ]
  },
  {
   "cell_type": "markdown",
   "metadata": {
    "id": "8yPnKGSqIIOk"
   },
   "source": [
    "## Prediction example\n",
    "\n",
    "Let us visualize some model predictions to understand how it works.\n",
    "\n",
    "We will take the sample user with id 3084.\n",
    "\n",
    "We want to predict scores for previously unseen items, so we select all unique items from ratings and remove the elements from user history."
   ]
  },
  {
   "cell_type": "code",
   "execution_count": 84,
   "metadata": {
    "id": "eS-J7uPNIIOk"
   },
   "outputs": [],
   "source": [
    "user = 3084\n",
    "items = torch.LongTensor(list(set(np.unique(ratings[:, 1])) - set(user_history_dict[user])))\n",
    "ripples = train_dataset.ripple_set[user]"
   ]
  },
  {
   "cell_type": "markdown",
   "metadata": {
    "id": "Z4fHayO-BE5o"
   },
   "source": [
    "Now, we can calculate scores and take the top five items"
   ]
  },
  {
   "cell_type": "code",
   "execution_count": 85,
   "metadata": {
    "id": "oM-Nx7SjIIOk"
   },
   "outputs": [
    {
     "data": {
      "text/plain": [
       "array([ 627,  189, 1554,  740,  780])"
      ]
     },
     "execution_count": 85,
     "metadata": {},
     "output_type": "execute_result"
    }
   ],
   "source": [
    "scores, embs = model(items.to(device), [[i.reshape(1, -1).to(device) for i in ripple] for ripple in ripples])\n",
    "\n",
    "top5 = items[scores.argsort()].numpy()[-5:]\n",
    "top5"
   ]
  },
  {
   "cell_type": "markdown",
   "metadata": {
    "id": "Qj4ZnF9lBTUM"
   },
   "source": [
    "Let us check is there any intersection of our prediction and ground truth data"
   ]
  },
  {
   "cell_type": "code",
   "execution_count": 86,
   "metadata": {
    "id": "yL0VoRxsieqw"
   },
   "outputs": [
    {
     "data": {
      "text/plain": [
       "{627, 1554}"
      ]
     },
     "execution_count": 86,
     "metadata": {},
     "output_type": "execute_result"
    }
   ],
   "source": [
    "set(top5) & set(test_data[test_data[:, 0] == user][:, 1])"
   ]
  },
  {
   "cell_type": "markdown",
   "metadata": {
    "id": "aU04p-BYBZ8V"
   },
   "source": [
    "Finally, we can visualize a subsample of the knowledge graph defined by user history and item 341"
   ]
  },
  {
   "cell_type": "code",
   "execution_count": 87,
   "metadata": {
    "id": "l2gT4OjwieoF"
   },
   "outputs": [
    {
     "data": {
      "image/png": "[encoded data removed]",
      "text/plain": [
       "<Figure size 1080x720 with 1 Axes>"
      ]
     },
     "metadata": {},
     "output_type": "display_data"
    }
   ],
   "source": [
    "tmp = kg_edges_pd[kg_edges_pd[\"head\"].isin(user_history_dict[user] + [1554])]\n",
    "visualize_kg_part(1554, tmp[~(tmp.relation.str.contains(\"language\")|tmp.relation.str.contains(\"country\") |tmp.relation.str.contains(\"rating\"))], 5)"
   ]
  },
  {
   "cell_type": "markdown",
   "metadata": {
    "id": "55_98k7Zyelg"
   },
   "source": [
    "We can see that given user watch many films of similar genres\n",
    "\n",
    "Let us check another item that is wrong but appears within the top five predictions"
   ]
  },
  {
   "cell_type": "code",
   "execution_count": 88,
   "metadata": {
    "id": "Bb9NJZAxiemT"
   },
   "outputs": [
    {
     "data": {
      "image/png": "[encoded data removed]",
      "text/plain": [
       "<Figure size 1080x720 with 1 Axes>"
      ]
     },
     "metadata": {},
     "output_type": "display_data"
    }
   ],
   "source": [
    "tmp = kg_edges_pd[kg_edges_pd[\"head\"].isin(user_history_dict[user] + [740])]\n",
    "visualize_kg_part(740, tmp[~(tmp.relation.str.contains(\"language\")|tmp.relation.str.contains(\"country\") |tmp.relation.str.contains(\"rating\"))], 5)"
   ]
  },
  {
   "cell_type": "markdown",
   "metadata": {
    "id": "PYALlXYhyoXP"
   },
   "source": [
    "Results for this prediction is similar. The user watches several films from the creators of Raiders of the Lost Ark and many films of similar genres. Moreover, this film is a part of an Indiana Jones series. The given user watched Indiana Jones and the Last Crusade previously"
   ]
  },
  {
   "cell_type": "code",
   "execution_count": null,
   "metadata": {
    "id": "h5Axm5Niiefn"
   },
   "outputs": [],
   "source": []
  }
 ],
 "metadata": {
  "celltoolbar": "Create Assignment",
  "colab": {
   "provenance": []
  },
  "kernelspec": {
   "display_name": "Python 3 (ipykernel)",
   "language": "python",
   "name": "python3"
  },
  "language_info": {
   "codemirror_mode": {
    "name": "ipython",
    "version": 3
   },
   "file_extension": ".py",
   "mimetype": "text/x-python",
   "name": "python",
   "nbconvert_exporter": "python",
   "pygments_lexer": "ipython3",
   "version": "3.6.13"
  }
 },
 "nbformat": 4,
 "nbformat_minor": 1
}
